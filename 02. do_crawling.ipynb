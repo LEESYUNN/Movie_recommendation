{
 "cells": [
  {
   "cell_type": "markdown",
   "metadata": {},
   "source": [
    "# 크롤링\n",
    "- 10,000page를 크롤링\n",
    "- 2,000page씩 나눠서 실행"
   ]
  },
  {
   "cell_type": "code",
   "execution_count": 8,
   "metadata": {
    "collapsed": true
   },
   "outputs": [],
   "source": [
    "import crawling\n",
    "from concurrent.futures import ThreadPoolExecutor\n",
    "from concurrent.futures import ProcessPoolExecutor"
   ]
  },
  {
   "cell_type": "markdown",
   "metadata": {},
   "source": [
    "## 1. 13321068~13323069"
   ]
  },
  {
   "cell_type": "code",
   "execution_count": 5,
   "metadata": {},
   "outputs": [
    {
     "name": "stdout",
     "output_type": "stream",
     "text": [
      "(1064, \"You have an error in your SQL syntax; check the manual that corresponds to your MySQL server version for the right syntax to use near '바이: Good & Bye', '드라마', '9')' at line 1\")\n",
      "Wall time: 3h 10min 49s\n"
     ]
    }
   ],
   "source": [
    "%%time\n",
    "page = 13323069\n",
    "while page > 13321069:\n",
    "\n",
    "    page = str(page)\n",
    "    url = \"http://movie.naver.com/movie/point/af/list.nhn?st=nickname&sword={}&target=after\".format(page)\n",
    "    \n",
    "    with ThreadPoolExecutor(max_workers=3) as executor:\n",
    "        executor.submit(crawling.do_crawl, url)\n",
    "    \n",
    "    page = int(page)\n",
    "    page -= 1"
   ]
  },
  {
   "cell_type": "markdown",
   "metadata": {
    "collapsed": true
   },
   "source": [
    "## 2. 13319068~13321069"
   ]
  },
  {
   "cell_type": "code",
   "execution_count": 4,
   "metadata": {},
   "outputs": [
    {
     "name": "stdout",
     "output_type": "stream",
     "text": [
      "(1064, \"You have an error in your SQL syntax; check the manual that corresponds to your MySQL server version for the right syntax to use near '81', '멜로/애정/로맨스', '1')' at line 1\")\n",
      "(1064, \"You have an error in your SQL syntax; check the manual that corresponds to your MySQL server version for the right syntax to use near '바이: Good & Bye', '드라마', '9')' at line 1\")\n",
      "(1064, \"You have an error in your SQL syntax; check the manual that corresponds to your MySQL server version for the right syntax to use near '바이: Good & Bye', '드라마', '9')' at line 1\")\n",
      "(1064, \"You have an error in your SQL syntax; check the manual that corresponds to your MySQL server version for the right syntax to use near '바이: Good & Bye', '드라마', '9')' at line 1\")\n",
      "(1064, \"You have an error in your SQL syntax; check the manual that corresponds to your MySQL server version for the right syntax to use near '바이: Good & Bye', '드라마', '9')' at line 1\")\n",
      "(1064, \"You have an error in your SQL syntax; check the manual that corresponds to your MySQL server version for the right syntax to use near '바이: Good & Bye', '드라마', '9')' at line 1\")\n",
      "Wall time: 3h 56min 18s\n"
     ]
    }
   ],
   "source": [
    "%%time\n",
    "page = 13321069\n",
    "while page > 13319069:\n",
    "\n",
    "    page = str(page)\n",
    "    url = \"http://movie.naver.com/movie/point/af/list.nhn?st=nickname&sword={}&target=after\".format(page)\n",
    "    \n",
    "    with ThreadPoolExecutor(max_workers=3) as executor:\n",
    "        executor.submit(crawling.do_crawl, url)\n",
    "    \n",
    "    page = int(page)\n",
    "    page -= 1"
   ]
  },
  {
   "cell_type": "markdown",
   "metadata": {
    "collapsed": true
   },
   "source": [
    "## 3. 13317068~13319069"
   ]
  },
  {
   "cell_type": "code",
   "execution_count": 3,
   "metadata": {},
   "outputs": [
    {
     "name": "stdout",
     "output_type": "stream",
     "text": [
      "Wall time: 3h 51min 17s\n"
     ]
    }
   ],
   "source": [
    "%%time\n",
    "page = 13319069\n",
    "while page > 13317069:\n",
    "\n",
    "    page = str(page)\n",
    "    url = \"http://movie.naver.com/movie/point/af/list.nhn?st=nickname&sword={}&target=after\".format(page)\n",
    "    \n",
    "    with ProcessPoolExecutor(max_workers=3) as executor:\n",
    "        executor.submit(crawling.do_crawl, url)\n",
    "    \n",
    "    page = int(page)\n",
    "    page -= 1"
   ]
  },
  {
   "cell_type": "markdown",
   "metadata": {},
   "source": [
    "## 4. 13315069~13317069"
   ]
  },
  {
   "cell_type": "code",
   "execution_count": 5,
   "metadata": {},
   "outputs": [
    {
     "name": "stdout",
     "output_type": "stream",
     "text": [
      "(1064, \"You have an error in your SQL syntax; check the manual that corresponds to your MySQL server version for the right syntax to use near '바이: Good & Bye', '드라마', '10')' at line 1\")\n",
      "Wall time: 3h 55min 56s\n"
     ]
    }
   ],
   "source": [
    "%%time\n",
    "page = 13317069\n",
    "while page > 13315068:\n",
    "\n",
    "    page = str(page)\n",
    "    url = \"http://movie.naver.com/movie/point/af/list.nhn?st=nickname&sword={}&target=after\".format(page)\n",
    "    \n",
    "    with ThreadPoolExecutor(max_workers=3) as executor:\n",
    "        executor.submit(crawling.do_crawl, url)\n",
    "    \n",
    "    page = int(page)\n",
    "    page -= 1"
   ]
  },
  {
   "cell_type": "markdown",
   "metadata": {
    "collapsed": true
   },
   "source": [
    "## 5. 13313068~13315068"
   ]
  },
  {
   "cell_type": "code",
   "execution_count": 7,
   "metadata": {},
   "outputs": [
    {
     "name": "stdout",
     "output_type": "stream",
     "text": [
      "(1064, \"You have an error in your SQL syntax; check the manual that corresponds to your MySQL server version for the right syntax to use near 'LL BE HERE -미래편-', '애니메이션', '4')' at line 1\")\n",
      "(1064, \"You have an error in your SQL syntax; check the manual that corresponds to your MySQL server version for the right syntax to use near 'LL BE HERE -미래편-', '애니메이션', '10')' at line 1\")\n",
      "(1064, \"You have an error in your SQL syntax; check the manual that corresponds to your MySQL server version for the right syntax to use near '바이: Good & Bye', '드라마', '9')' at line 1\")\n",
      "Wall time: 3h 36min 54s\n"
     ]
    }
   ],
   "source": [
    "%%time\n",
    "page = 13315068\n",
    "while page > 13313067:\n",
    "\n",
    "    page = str(page)\n",
    "    url = \"http://movie.naver.com/movie/point/af/list.nhn?st=nickname&sword={}&target=after\".format(page)\n",
    "    \n",
    "    with ThreadPoolExecutor(max_workers=3) as executor:\n",
    "        executor.submit(crawling.do_crawl, url)\n",
    "    \n",
    "    page = int(page)\n",
    "    page -= 1"
   ]
  },
  {
   "cell_type": "code",
   "execution_count": null,
   "metadata": {
    "collapsed": true
   },
   "outputs": [],
   "source": []
  },
  {
   "cell_type": "code",
   "execution_count": null,
   "metadata": {
    "collapsed": true
   },
   "outputs": [],
   "source": []
  }
 ],
 "metadata": {
  "kernelspec": {
   "display_name": "Python 3",
   "language": "python",
   "name": "python3"
  },
  "language_info": {
   "codemirror_mode": {
    "name": "ipython",
    "version": 3
   },
   "file_extension": ".py",
   "mimetype": "text/x-python",
   "name": "python",
   "nbconvert_exporter": "python",
   "pygments_lexer": "ipython3",
   "version": "3.6.2rc1"
  }
 },
 "nbformat": 4,
 "nbformat_minor": 2
}
