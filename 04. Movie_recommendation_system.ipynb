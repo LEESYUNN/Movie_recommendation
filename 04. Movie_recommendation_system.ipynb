{
 "cells": [
  {
   "cell_type": "code",
   "execution_count": 371,
   "metadata": {
    "collapsed": true
   },
   "outputs": [],
   "source": [
    "import pandas as pd\n",
    "import numpy as np\n",
    "from sqlalchemy import create_engine\n",
    "\n",
    "from pprint import pprint\n",
    "\n",
    "import matplotlib.pyplot as plt\n",
    "from matplotlib import font_manager, rc\n",
    "\n",
    "from sklearn.preprocessing import LabelEncoder\n",
    "from sklearn.cross_validation import train_test_split\n",
    "\n",
    "import pickle\n",
    "import random"
   ]
  },
  {
   "cell_type": "markdown",
   "metadata": {},
   "source": [
    "## 1. DATA LOAD"
   ]
  },
  {
   "cell_type": "code",
   "execution_count": 4,
   "metadata": {},
   "outputs": [
    {
     "name": "stderr",
     "output_type": "stream",
     "text": [
      "c:\\Python36\\lib\\site-packages\\sqlalchemy\\dialects\\mysql\\base.py:1569: Warning: (1287, \"'@@tx_isolation' is deprecated and will be removed in a future release. Please use '@@transaction_isolation' instead\")\n",
      "  cursor.execute('SELECT @@tx_isolation')\n"
     ]
    },
    {
     "data": {
      "text/html": [
       "<div>\n",
       "<style>\n",
       "    .dataframe thead tr:only-child th {\n",
       "        text-align: right;\n",
       "    }\n",
       "\n",
       "    .dataframe thead th {\n",
       "        text-align: left;\n",
       "    }\n",
       "\n",
       "    .dataframe tbody tr th {\n",
       "        vertical-align: top;\n",
       "    }\n",
       "</style>\n",
       "<table border=\"1\" class=\"dataframe\">\n",
       "  <thead>\n",
       "    <tr style=\"text-align: right;\">\n",
       "      <th></th>\n",
       "      <th>user</th>\n",
       "      <th>title</th>\n",
       "      <th>genre</th>\n",
       "      <th>score</th>\n",
       "    </tr>\n",
       "  </thead>\n",
       "  <tbody>\n",
       "    <tr>\n",
       "      <th>90147</th>\n",
       "      <td>ysd5</td>\n",
       "      <td>닥터 스트레인지</td>\n",
       "      <td>액션</td>\n",
       "      <td>10</td>\n",
       "    </tr>\n",
       "    <tr>\n",
       "      <th>90148</th>\n",
       "      <td>ysd5</td>\n",
       "      <td>신비한 동물사전</td>\n",
       "      <td>판타지</td>\n",
       "      <td>10</td>\n",
       "    </tr>\n",
       "    <tr>\n",
       "      <th>90149</th>\n",
       "      <td>ysd5</td>\n",
       "      <td>탐정 홍길동: 사라진 마을</td>\n",
       "      <td>드라마</td>\n",
       "      <td>9</td>\n",
       "    </tr>\n",
       "    <tr>\n",
       "      <th>90150</th>\n",
       "      <td>ysd5</td>\n",
       "      <td>주토피아</td>\n",
       "      <td>애니메이션</td>\n",
       "      <td>10</td>\n",
       "    </tr>\n",
       "    <tr>\n",
       "      <th>90151</th>\n",
       "      <td>ysd5</td>\n",
       "      <td>인턴</td>\n",
       "      <td>코미디</td>\n",
       "      <td>10</td>\n",
       "    </tr>\n",
       "  </tbody>\n",
       "</table>\n",
       "</div>"
      ],
      "text/plain": [
       "       user           title  genre score\n",
       "90147  ysd5        닥터 스트레인지     액션    10\n",
       "90148  ysd5        신비한 동물사전    판타지    10\n",
       "90149  ysd5  탐정 홍길동: 사라진 마을    드라마     9\n",
       "90150  ysd5            주토피아  애니메이션    10\n",
       "90151  ysd5              인턴    코미디    10"
      ]
     },
     "execution_count": 4,
     "metadata": {},
     "output_type": "execute_result"
    }
   ],
   "source": [
    "# sqlalchemy를 이용하여 서버에 있는 data를 dataframe으로 가져옴\n",
    "engine = create_engine('mysql://{}:{}@{}/{}?charset=utf8'.format(user, pwd, server, db_name), convert_unicode = True)\n",
    "connect = engine.connect()\n",
    "\n",
    "raw_data = pd.read_sql_table('data_set', connect)\n",
    "raw_data.tail(5)"
   ]
  },
  {
   "cell_type": "code",
   "execution_count": 5,
   "metadata": {},
   "outputs": [
    {
     "name": "stdout",
     "output_type": "stream",
     "text": [
      "Wall time: 2min 29s\n"
     ]
    }
   ],
   "source": [
    "%%time\n",
    "# 10개 이하의 평가를 받은 영화를 제거한 새로운 데이터프레임 생성\n",
    "def refining_df(raw_df):\n",
    "\n",
    "    title_number_df = raw_df.groupby('title').count().sort_values('user')\n",
    "    title_under_10 = title_number_df[title_number_df.user <= 10]\n",
    "    title_under_10_list = list(title_under_10.index)\n",
    "\n",
    "    for title in title_under_10_list:\n",
    "        raw_df = raw_df[raw_df['title'] != title]\n",
    "\n",
    "    return raw_df\n",
    "\n",
    "raw_df = refining_df(raw_data)\n",
    "new_df = raw_df.reset_index(drop=True)"
   ]
  },
  {
   "cell_type": "code",
   "execution_count": 6,
   "metadata": {
    "scrolled": true
   },
   "outputs": [
    {
     "data": {
      "text/html": [
       "<div>\n",
       "<style>\n",
       "    .dataframe thead tr:only-child th {\n",
       "        text-align: right;\n",
       "    }\n",
       "\n",
       "    .dataframe thead th {\n",
       "        text-align: left;\n",
       "    }\n",
       "\n",
       "    .dataframe tbody tr th {\n",
       "        vertical-align: top;\n",
       "    }\n",
       "</style>\n",
       "<table border=\"1\" class=\"dataframe\">\n",
       "  <thead>\n",
       "    <tr style=\"text-align: right;\">\n",
       "      <th></th>\n",
       "      <th>user</th>\n",
       "      <th>title</th>\n",
       "      <th>genre</th>\n",
       "      <th>score</th>\n",
       "    </tr>\n",
       "  </thead>\n",
       "  <tbody>\n",
       "    <tr>\n",
       "      <th>73458</th>\n",
       "      <td>ysd5</td>\n",
       "      <td>주토피아</td>\n",
       "      <td>애니메이션</td>\n",
       "      <td>10</td>\n",
       "    </tr>\n",
       "    <tr>\n",
       "      <th>73459</th>\n",
       "      <td>ysd5</td>\n",
       "      <td>인턴</td>\n",
       "      <td>코미디</td>\n",
       "      <td>10</td>\n",
       "    </tr>\n",
       "  </tbody>\n",
       "</table>\n",
       "</div>"
      ],
      "text/plain": [
       "       user title  genre score\n",
       "73458  ysd5  주토피아  애니메이션    10\n",
       "73459  ysd5    인턴    코미디    10"
      ]
     },
     "execution_count": 6,
     "metadata": {},
     "output_type": "execute_result"
    }
   ],
   "source": [
    "new_df.tail(2)"
   ]
  },
  {
   "cell_type": "markdown",
   "metadata": {},
   "source": [
    "#### COPY DATA"
   ]
  },
  {
   "cell_type": "code",
   "execution_count": 7,
   "metadata": {},
   "outputs": [
    {
     "data": {
      "text/html": [
       "<div>\n",
       "<style>\n",
       "    .dataframe thead tr:only-child th {\n",
       "        text-align: right;\n",
       "    }\n",
       "\n",
       "    .dataframe thead th {\n",
       "        text-align: left;\n",
       "    }\n",
       "\n",
       "    .dataframe tbody tr th {\n",
       "        vertical-align: top;\n",
       "    }\n",
       "</style>\n",
       "<table border=\"1\" class=\"dataframe\">\n",
       "  <thead>\n",
       "    <tr style=\"text-align: right;\">\n",
       "      <th></th>\n",
       "      <th>user</th>\n",
       "      <th>title</th>\n",
       "      <th>genre</th>\n",
       "      <th>score</th>\n",
       "    </tr>\n",
       "  </thead>\n",
       "  <tbody>\n",
       "    <tr>\n",
       "      <th>73458</th>\n",
       "      <td>ysd5</td>\n",
       "      <td>주토피아</td>\n",
       "      <td>애니메이션</td>\n",
       "      <td>10</td>\n",
       "    </tr>\n",
       "    <tr>\n",
       "      <th>73459</th>\n",
       "      <td>ysd5</td>\n",
       "      <td>인턴</td>\n",
       "      <td>코미디</td>\n",
       "      <td>10</td>\n",
       "    </tr>\n",
       "  </tbody>\n",
       "</table>\n",
       "</div>"
      ],
      "text/plain": [
       "       user title  genre score\n",
       "73458  ysd5  주토피아  애니메이션    10\n",
       "73459  ysd5    인턴    코미디    10"
      ]
     },
     "execution_count": 7,
     "metadata": {},
     "output_type": "execute_result"
    }
   ],
   "source": [
    "df = new_df.copy()\n",
    "df.tail(2)"
   ]
  },
  {
   "cell_type": "markdown",
   "metadata": {},
   "source": [
    "## 2. DATA 탐색"
   ]
  },
  {
   "cell_type": "markdown",
   "metadata": {},
   "source": [
    "#### (1) 전체 유저와 영화의 수 확인"
   ]
  },
  {
   "cell_type": "code",
   "execution_count": 48,
   "metadata": {
    "scrolled": false
   },
   "outputs": [
    {
     "name": "stdout",
     "output_type": "stream",
     "text": [
      "유저의 수는 1837명 이고,\n",
      "영화의 수는 1593개 입니다.\n"
     ]
    }
   ],
   "source": [
    "user_num = df.user.unique().shape[0]\n",
    "movie_num = df.title.unique().shape[0]\n",
    "\n",
    "print(\"유저의 수는 {}명 이고,\\n영화의 수는 {}개 입니다.\".format(user_num, movie_num))"
   ]
  },
  {
   "cell_type": "markdown",
   "metadata": {},
   "source": [
    "#### (2) 평점을 많이 남긴 유저 TOP 10"
   ]
  },
  {
   "cell_type": "code",
   "execution_count": 10,
   "metadata": {},
   "outputs": [
    {
     "data": {
      "image/png": "[encoded data removed]",
      "text/plain": [
       "<matplotlib.figure.Figure at 0x239dc6fa0f0>"
      ]
     },
     "metadata": {},
     "output_type": "display_data"
    }
   ],
   "source": [
    "user_top_10 = df.user.value_counts()[:10]\n",
    "\n",
    "plt.style.use('ggplot')\n",
    "user_top_10.plot(kind = 'bar', title = 'User Rank',\n",
    "                            figsize = (10, 5), legend = True, fontsize = 12)\n",
    "plt.ylabel(\"Number of reviews\", fontsize = 12)\n",
    "plt.show()"
   ]
  },
  {
   "cell_type": "markdown",
   "metadata": {},
   "source": [
    "#### (3) 유저들로 부터 평점을 많이 받은 영화 TOP 10"
   ]
  },
  {
   "cell_type": "code",
   "execution_count": 11,
   "metadata": {},
   "outputs": [
    {
     "data": {
      "image/png": "[encoded data removed]",
      "text/plain": [
       "<matplotlib.figure.Figure at 0x239db929b38>"
      ]
     },
     "metadata": {},
     "output_type": "display_data"
    }
   ],
   "source": [
    "# matplotlib에서 한글 사용\n",
    "font_name = font_manager.FontProperties(fname = \"c:/Windows/Fonts/malgun.ttf\").get_name()\n",
    "rc('font', family = font_name)\n",
    "\n",
    "movie_top_10 = df.title.value_counts()[:10]\n",
    "\n",
    "plt.style.use('ggplot')\n",
    "movie_top_10.plot(kind = 'bar', title = 'Movie Rank',\n",
    "                            figsize = (10, 5), legend = True, fontsize = 12)\n",
    "plt.ylabel(\"Number of reviews\", fontsize = 12)\n",
    "plt.show()"
   ]
  },
  {
   "cell_type": "markdown",
   "metadata": {},
   "source": [
    "#### (4) Score 랭킹"
   ]
  },
  {
   "cell_type": "code",
   "execution_count": 12,
   "metadata": {},
   "outputs": [
    {
     "data": {
      "image/png": "[encoded data removed]",
      "text/plain": [
       "<matplotlib.figure.Figure at 0x239dbe22c88>"
      ]
     },
     "metadata": {},
     "output_type": "display_data"
    }
   ],
   "source": [
    "plt.style.use('ggplot')\n",
    "df.score.value_counts().plot(kind = 'bar', title = 'Score Rank',\n",
    "                            figsize = (10, 5), legend = True, fontsize = 12)\n",
    "plt.ylabel(\"Number of Scores\", fontsize = 12)\n",
    "plt.show()"
   ]
  },
  {
   "cell_type": "markdown",
   "metadata": {
    "collapsed": true
   },
   "source": [
    "## 3. 유틸리티 행렬(Utility Matrix)"
   ]
  },
  {
   "cell_type": "markdown",
   "metadata": {},
   "source": [
    "각 원소 ** $ a_{ij} $ ** 가 유저(i)가 영화(j)에 준 평점을 의미하는 유틸리티행렬(U)를 만든다."
   ]
  },
  {
   "cell_type": "code",
   "execution_count": 8,
   "metadata": {
    "scrolled": true
   },
   "outputs": [
    {
     "name": "stdout",
     "output_type": "stream",
     "text": [
      "1837\n",
      "1593\n"
     ]
    },
    {
     "data": {
      "text/html": [
       "<div>\n",
       "<style>\n",
       "    .dataframe thead tr:only-child th {\n",
       "        text-align: right;\n",
       "    }\n",
       "\n",
       "    .dataframe thead th {\n",
       "        text-align: left;\n",
       "    }\n",
       "\n",
       "    .dataframe tbody tr th {\n",
       "        vertical-align: top;\n",
       "    }\n",
       "</style>\n",
       "<table border=\"1\" class=\"dataframe\">\n",
       "  <thead>\n",
       "    <tr style=\"text-align: right;\">\n",
       "      <th></th>\n",
       "      <th>user_label</th>\n",
       "      <th>title_label</th>\n",
       "      <th>genre</th>\n",
       "      <th>score</th>\n",
       "    </tr>\n",
       "  </thead>\n",
       "  <tbody>\n",
       "    <tr>\n",
       "      <th>73455</th>\n",
       "      <td>1797</td>\n",
       "      <td>263</td>\n",
       "      <td>액션</td>\n",
       "      <td>10</td>\n",
       "    </tr>\n",
       "    <tr>\n",
       "      <th>73456</th>\n",
       "      <td>1797</td>\n",
       "      <td>854</td>\n",
       "      <td>판타지</td>\n",
       "      <td>10</td>\n",
       "    </tr>\n",
       "    <tr>\n",
       "      <th>73457</th>\n",
       "      <td>1797</td>\n",
       "      <td>1369</td>\n",
       "      <td>드라마</td>\n",
       "      <td>9</td>\n",
       "    </tr>\n",
       "    <tr>\n",
       "      <th>73458</th>\n",
       "      <td>1797</td>\n",
       "      <td>1222</td>\n",
       "      <td>애니메이션</td>\n",
       "      <td>10</td>\n",
       "    </tr>\n",
       "    <tr>\n",
       "      <th>73459</th>\n",
       "      <td>1797</td>\n",
       "      <td>1156</td>\n",
       "      <td>코미디</td>\n",
       "      <td>10</td>\n",
       "    </tr>\n",
       "  </tbody>\n",
       "</table>\n",
       "</div>"
      ],
      "text/plain": [
       "       user_label  title_label  genre score\n",
       "73455        1797          263     액션    10\n",
       "73456        1797          854    판타지    10\n",
       "73457        1797         1369    드라마     9\n",
       "73458        1797         1222  애니메이션    10\n",
       "73459        1797         1156    코미디    10"
      ]
     },
     "execution_count": 8,
     "metadata": {},
     "output_type": "execute_result"
    }
   ],
   "source": [
    "# LabelEncoder를 이용하여 user와 title을 수치화 한다\n",
    "def execute_labeling(column_name):\n",
    "    Lec = LabelEncoder()\n",
    "    df_copy = df.copy()\n",
    "    df_label = pd.DataFrame(Lec.fit_transform(df_copy[column_name].values), columns = [column_name+'_label'])\n",
    "    return df_label\n",
    "\n",
    "df_user = execute_labeling('user')\n",
    "df_title = execute_labeling('title')\n",
    "\n",
    "print(len(df_user['user_label'].value_counts()))\n",
    "print(len(df_title['title_label'].value_counts()))\n",
    "\n",
    "df_copy = df.copy()    # copy df\n",
    "df_copy = df_copy.drop(df_copy.columns[[0, 1]], axis = 1)    # delete 'user', 'title' columns\n",
    "df_label = pd.concat([df_user, df_title, df_copy], axis = 1)    # 라벨링한 컬럼과 기존 데이터프레임 합치기\n",
    "\n",
    "df_label.tail(5)"
   ]
  },
  {
   "cell_type": "code",
   "execution_count": 9,
   "metadata": {},
   "outputs": [
    {
     "data": {
      "text/html": [
       "<div>\n",
       "<style>\n",
       "    .dataframe thead tr:only-child th {\n",
       "        text-align: right;\n",
       "    }\n",
       "\n",
       "    .dataframe thead th {\n",
       "        text-align: left;\n",
       "    }\n",
       "\n",
       "    .dataframe tbody tr th {\n",
       "        vertical-align: top;\n",
       "    }\n",
       "</style>\n",
       "<table border=\"1\" class=\"dataframe\">\n",
       "  <thead>\n",
       "    <tr style=\"text-align: right;\">\n",
       "      <th></th>\n",
       "      <th>user</th>\n",
       "      <th>007 스카이폴</th>\n",
       "      <th>007 스펙터</th>\n",
       "      <th>007 카지노 로얄</th>\n",
       "      <th>007 퀀텀 오브 솔러스</th>\n",
       "      <th>10억</th>\n",
       "      <th>12 몽키즈</th>\n",
       "      <th>127 시간</th>\n",
       "      <th>13시간</th>\n",
       "      <th>13일의 금요일</th>\n",
       "      <th>...</th>\n",
       "      <th>황후花</th>\n",
       "      <th>회사원</th>\n",
       "      <th>후궁 : 제왕의 첩</th>\n",
       "      <th>희생부활자</th>\n",
       "      <th>히든 아이덴티티</th>\n",
       "      <th>히든 페이스</th>\n",
       "      <th>히든 피겨스</th>\n",
       "      <th>히말라야</th>\n",
       "      <th>히트</th>\n",
       "      <th>히트맨: 에이전트 47</th>\n",
       "    </tr>\n",
       "  </thead>\n",
       "  <tbody>\n",
       "  </tbody>\n",
       "</table>\n",
       "<p>0 rows × 1594 columns</p>\n",
       "</div>"
      ],
      "text/plain": [
       "Empty DataFrame\n",
       "Columns: [user, 007 스카이폴, 007 스펙터, 007 카지노 로얄 , 007 퀀텀 오브 솔러스, 10억, 12 몽키즈, 127 시간, 13시간, 13일의 금요일, 13층, 1408, 18 : 우리들의 성장 느와르, 19곰 테드, 19곰 테드 2, 1번가의 기적, 2012, 23 아이덴티티, 26년, 28일 후, 300, 300: 제국의 부활, 47 미터, 4월 이야기, 500일의 썸머, 50가지 그림자: 심연, 5일의 마중, 7광구, 7급 공무원, 7년-그들이 없는 언론, 7번방의 선물, 7번째 내가 죽던 날, 8 마일, 8월의 크리스마스, A-특공대, GP506, MB의 추억, 가디언, 가디언즈, 가디언즈 오브 갤럭시, 가디언즈 오브 갤럭시 VOL. 2, 가려진 시간, 가문의 영광5-가문의 귀환, 가시, 가위손, 가장 따뜻한 색, 블루, 가타카, 간기남, 간신, 간첩, 간츠: 오, 갈증, 감기, 감시자들, 갓 오브 이집트, 갓파 쿠와 여름방학을, 강남 1970, 강철중: 공공의 적 1-1, 개를 훔치는 완벽한 방법, 거룩한 계보, 거북이 달린다, 거울나라의 앨리스, 건축학개론, 걷기왕, 걸 온 더 트레인, 검사외전, 검은 사제들, 검은 집, 겟 썸, 겟 아웃, 겨울왕국, 결혼전야, 경성학교: 사라진 소녀들, 경주, 계춘할망, 고령화 가족, 고백, 고사 두 번째 이야기: 교생실습, 고사: 피의 중간고사, 고산자, 대동여지도, 고스트버스터즈, 고지전, 고질라, 곡성(哭聲), 골!, 골드, 공각기동대 : 고스트 인 더 쉘, 공공의 적, 공동경비구역 JSA, 공모자들, 공범, 공범자들, 공정사회, 공조, 과속스캔들, 관능의 법칙, 관상, 광식이 동생 광태, 광해, 왕이 된 남자, 괴물, ...]\n",
       "Index: []\n",
       "\n",
       "[0 rows x 1594 columns]"
      ]
     },
     "execution_count": 9,
     "metadata": {},
     "output_type": "execute_result"
    }
   ],
   "source": [
    "# 유저와 영화 제목이 column이고 각 원소가 평점인 DataFrame을 생성\n",
    "movie_list = list(df['title'].unique())\n",
    "movie_list = sorted(movie_list, key=str)\n",
    "df_matrix = pd.DataFrame(columns = ['user'] + movie_list)\n",
    "\n",
    "user_num = len(df_label.user_label.unique())\n",
    "movie_num = len(df_label.title_label.unique())\n",
    "\n",
    "df_matrix"
   ]
  },
  {
   "cell_type": "code",
   "execution_count": 10,
   "metadata": {
    "scrolled": true
   },
   "outputs": [
    {
     "name": "stderr",
     "output_type": "stream",
     "text": [
      "c:\\Python36\\lib\\site-packages\\ipykernel_launcher.py:10: DeprecationWarning: \n",
      ".ix is deprecated. Please use\n",
      ".loc for label based indexing or\n",
      ".iloc for positional indexing\n",
      "\n",
      "See the documentation here:\n",
      "http://pandas.pydata.org/pandas-docs/stable/indexing.html#deprecate_ix\n",
      "  # Remove the CWD from sys.path while we load stuff.\n"
     ]
    },
    {
     "name": "stdout",
     "output_type": "stream",
     "text": [
      "Wall time: 6min 57s\n"
     ]
    }
   ],
   "source": [
    "%%time\n",
    "user_score_list = []    # df_matrix에서 'user' 컬럼을 제외한 컬럼. 즉, title 컬럼\n",
    "for num in range(0, user_num):\n",
    "    \n",
    "    user_score_list = [0 for i in range(movie_num)]    # 값을 0으로 초기화\n",
    "    df_tmp = df_label[df_label['user_label'] == num]    # 각 유저별로 묶는다\n",
    "    \n",
    "    #print(df_tmp.head(2))\n",
    "    for j in df_tmp.index:\n",
    "        \n",
    "            user_score_list[df_tmp.ix[j]['title_label']-1] = df_tmp.ix[j]['score'] # user가 평가한 영화가 있다면 score를 채워넣는다\n",
    "                \n",
    "    df_matrix.loc[num] = [num] + user_score_list    # 행채우기"
   ]
  },
  {
   "cell_type": "code",
   "execution_count": 13,
   "metadata": {
    "collapsed": true
   },
   "outputs": [],
   "source": [
    "# pickle 저장\n",
    "file = df_matrix\n",
    "directory = open('utilitymatrix', 'wb')\n",
    "pickle.dump(file, directory)\n",
    "directory.close()"
   ]
  },
  {
   "cell_type": "code",
   "execution_count": 113,
   "metadata": {
    "collapsed": true
   },
   "outputs": [],
   "source": [
    "# pickle 이용하여 DATA LOAD\n",
    "f = open('utilitymatrix', 'rb')\n",
    "utilitymatrix = pickle.load(f)"
   ]
  },
  {
   "cell_type": "code",
   "execution_count": 114,
   "metadata": {},
   "outputs": [
    {
     "data": {
      "text/html": [
       "<div>\n",
       "<style>\n",
       "    .dataframe thead tr:only-child th {\n",
       "        text-align: right;\n",
       "    }\n",
       "\n",
       "    .dataframe thead th {\n",
       "        text-align: left;\n",
       "    }\n",
       "\n",
       "    .dataframe tbody tr th {\n",
       "        vertical-align: top;\n",
       "    }\n",
       "</style>\n",
       "<table border=\"1\" class=\"dataframe\">\n",
       "  <thead>\n",
       "    <tr style=\"text-align: right;\">\n",
       "      <th></th>\n",
       "      <th>user</th>\n",
       "      <th>007 스카이폴</th>\n",
       "      <th>007 스펙터</th>\n",
       "      <th>007 카지노 로얄</th>\n",
       "      <th>007 퀀텀 오브 솔러스</th>\n",
       "      <th>10억</th>\n",
       "      <th>12 몽키즈</th>\n",
       "      <th>127 시간</th>\n",
       "      <th>13시간</th>\n",
       "      <th>13일의 금요일</th>\n",
       "      <th>...</th>\n",
       "      <th>황후花</th>\n",
       "      <th>회사원</th>\n",
       "      <th>후궁 : 제왕의 첩</th>\n",
       "      <th>희생부활자</th>\n",
       "      <th>히든 아이덴티티</th>\n",
       "      <th>히든 페이스</th>\n",
       "      <th>히든 피겨스</th>\n",
       "      <th>히말라야</th>\n",
       "      <th>히트</th>\n",
       "      <th>히트맨: 에이전트 47</th>\n",
       "    </tr>\n",
       "  </thead>\n",
       "  <tbody>\n",
       "    <tr>\n",
       "      <th>1835</th>\n",
       "      <td>1835</td>\n",
       "      <td>0</td>\n",
       "      <td>0</td>\n",
       "      <td>0</td>\n",
       "      <td>0</td>\n",
       "      <td>0</td>\n",
       "      <td>0</td>\n",
       "      <td>0</td>\n",
       "      <td>0</td>\n",
       "      <td>0</td>\n",
       "      <td>...</td>\n",
       "      <td>0</td>\n",
       "      <td>0</td>\n",
       "      <td>0</td>\n",
       "      <td>0</td>\n",
       "      <td>0</td>\n",
       "      <td>0</td>\n",
       "      <td>0</td>\n",
       "      <td>0</td>\n",
       "      <td>0</td>\n",
       "      <td>0</td>\n",
       "    </tr>\n",
       "    <tr>\n",
       "      <th>1836</th>\n",
       "      <td>1836</td>\n",
       "      <td>0</td>\n",
       "      <td>0</td>\n",
       "      <td>0</td>\n",
       "      <td>0</td>\n",
       "      <td>0</td>\n",
       "      <td>0</td>\n",
       "      <td>0</td>\n",
       "      <td>0</td>\n",
       "      <td>0</td>\n",
       "      <td>...</td>\n",
       "      <td>0</td>\n",
       "      <td>0</td>\n",
       "      <td>0</td>\n",
       "      <td>0</td>\n",
       "      <td>0</td>\n",
       "      <td>0</td>\n",
       "      <td>0</td>\n",
       "      <td>0</td>\n",
       "      <td>0</td>\n",
       "      <td>0</td>\n",
       "    </tr>\n",
       "  </tbody>\n",
       "</table>\n",
       "<p>2 rows × 1594 columns</p>\n",
       "</div>"
      ],
      "text/plain": [
       "      user 007 스카이폴 007 스펙터 007 카지노 로얄  007 퀀텀 오브 솔러스 10억 12 몽키즈 127 시간 13시간  \\\n",
       "1835  1835        0       0           0             0   0      0      0    0   \n",
       "1836  1836        0       0           0             0   0      0      0    0   \n",
       "\n",
       "     13일의 금요일     ...      황후花 회사원 후궁 : 제왕의 첩 희생부활자 히든 아이덴티티 히든 페이스 히든 피겨스  \\\n",
       "1835        0     ...        0   0          0     0        0      0      0   \n",
       "1836        0     ...        0   0          0     0        0      0      0   \n",
       "\n",
       "     히말라야 히트 히트맨: 에이전트 47  \n",
       "1835    0  0            0  \n",
       "1836    0  0            0  \n",
       "\n",
       "[2 rows x 1594 columns]"
      ]
     },
     "execution_count": 114,
     "metadata": {},
     "output_type": "execute_result"
    }
   ],
   "source": [
    "utilitymatrix.tail(2)"
   ]
  },
  {
   "cell_type": "markdown",
   "metadata": {
    "collapsed": true
   },
   "source": [
    "## 4. DATA SPLIT"
   ]
  },
  {
   "cell_type": "code",
   "execution_count": 115,
   "metadata": {},
   "outputs": [
    {
     "name": "stdout",
     "output_type": "stream",
     "text": [
      "(1377, 1594) (460, 1594) (1837, 1594)\n"
     ]
    }
   ],
   "source": [
    "train, test = train_test_split(utilitymatrix, random_state=5)\n",
    "\n",
    "print(train.shape, test.shape, utilitymatrix.shape)"
   ]
  },
  {
   "cell_type": "markdown",
   "metadata": {
    "collapsed": true
   },
   "source": [
    "## 5. 협업 필터링을 이용한 영화 추천 알고리즘\n",
    "- 사용자 기반 협업 필터링을 이용하여 영화 추천 알고리즘을 구현한다.\n",
    "    1. 코사인 유사도와 KNN을 이용하여 유저(i)가 영화(j)에 평점을 준 가장 비슷한 다른 유저(u)를 찾는다.\n",
    "    2. 유저(i)가 아직 평가하지 않은 영화(j)의 평점을 예측한다. (유저(u)의 평점을 가중 평균하여 계산)"
   ]
  },
  {
   "cell_type": "markdown",
   "metadata": {
    "collapsed": true
   },
   "source": [
    "#### (1) 유사도 척도\n",
    "- 코사인 유사도를 이용하여 유틸리티 행렬에서 각 사용자의 짝 유사도를 계산한다."
   ]
  },
  {
   "cell_type": "code",
   "execution_count": 9,
   "metadata": {
    "scrolled": true
   },
   "outputs": [
    {
     "name": "stdout",
     "output_type": "stream",
     "text": [
      "(1377, 1377)\n"
     ]
    },
    {
     "data": {
      "text/plain": [
       "array([[ 1.        ,  0.98919249,  0.997108  , ...,  0.99861211,\n",
       "         0.98736337,  0.99609698],\n",
       "       [ 0.98919249,  1.        ,  0.98906735, ...,  0.9903404 ,\n",
       "         0.97979131,  0.98950796],\n",
       "       [ 0.997108  ,  0.98906735,  1.        , ...,  0.9978121 ,\n",
       "         0.98820815,  0.99617032],\n",
       "       ..., \n",
       "       [ 0.99861211,  0.9903404 ,  0.9978121 , ...,  1.        ,\n",
       "         0.98831282,  0.9972455 ],\n",
       "       [ 0.98736337,  0.97979131,  0.98820815, ...,  0.98831282,\n",
       "         1.        ,  0.98681717],\n",
       "       [ 0.99609698,  0.98950796,  0.99617032, ...,  0.9972455 ,\n",
       "         0.98681717,  1.        ]])"
      ]
     },
     "execution_count": 9,
     "metadata": {},
     "output_type": "execute_result"
    }
   ],
   "source": [
    "def cosine_similarity(data_name):    \n",
    "    from sklearn.metrics.pairwise import cosine_distances\n",
    "    similarity = 1 - cosine_distances(data_name)    # 0에 가까워 질수록 유사함\n",
    "    return similarity\n",
    "\n",
    "\n",
    "distant = cosine_similarity(train)    # data set으로 train set을 넣음\n",
    "print(dis.shape)\n",
    "distant"
   ]
  },
  {
   "cell_type": "markdown",
   "metadata": {
    "collapsed": true
   },
   "source": [
    "#### (2) 유저(i)와 가장 비슷한 유저(u) 5명을 찾는다.\n",
    "- NearestNeighbors를 사용하여 가장 유사한 5명의 유저를 찾는다."
   ]
  },
  {
   "cell_type": "code",
   "execution_count": 76,
   "metadata": {
    "collapsed": true
   },
   "outputs": [],
   "source": [
    "# 사용하려는 데이터와 이웃의 수를 받아 유저(i)와 유사한 K명의 유저(u)를 찾음\n",
    "def find_near_neighbor(data_name, K, user_num=None):\n",
    "    \n",
    "    from sklearn.neighbors import NearestNeighbors\n",
    "\n",
    "    KNN = NearestNeighbors(n_neighbors = K + 1, metric = 'cosine')    # 유사한 5명을 찾기 위해 +1을 해줌\n",
    "    KNN.fit(data_name)\n",
    "    similar_distance, similar_users = KNN.kneighbors(data_name)\n",
    "    \n",
    "    similar_users = similar_users[user_num][1:]\n",
    "    similar_users = list(similar_users)\n",
    "    return similar_users\n",
    "\n",
    "# 유저(i)와 유사한 K명의 유저(u)들의 거리 함수\n",
    "def find_near_distance(data_name, K, user_num=None):\n",
    "    \n",
    "    from sklearn.neighbors import NearestNeighbors\n",
    "\n",
    "    KNN = NearestNeighbors(n_neighbors = K + 1, metric = 'cosine')    \n",
    "    KNN.fit(data_name)\n",
    "    similar_distance, similar_users = KNN.kneighbors(data_name)\n",
    "    similar_distance = similar_distance[user_num][1:]\n",
    "    \n",
    "    return similar_distance"
   ]
  },
  {
   "cell_type": "code",
   "execution_count": 72,
   "metadata": {},
   "outputs": [
    {
     "name": "stdout",
     "output_type": "stream",
     "text": [
      "[1110, 639, 1273, 331, 200]\n"
     ]
    }
   ],
   "source": [
    "# 유저 번호 10과 유사한 5명의 유저들의 번호\n",
    "similiar_users_10 = find_near_neighbor(train, 5, 10)\n",
    "print(similiar_users_10)"
   ]
  },
  {
   "cell_type": "code",
   "execution_count": 79,
   "metadata": {},
   "outputs": [
    {
     "name": "stdout",
     "output_type": "stream",
     "text": [
      "[ 0.00011077  0.00011105  0.00011614  0.00012129  0.00013438]\n"
     ]
    }
   ],
   "source": [
    "# 유저 번호 10과 유사한 5명의 유저와의 거리\n",
    "similiar_distance_10 = find_near_distance(train, 5, 10)\n",
    "print(similiar_distance_10)"
   ]
  },
  {
   "cell_type": "markdown",
   "metadata": {
    "collapsed": true
   },
   "source": [
    "#### (3) 유저(i)가 평가하지 않은 영화(j)의 평가를 예측하여 이를 기반으로 유저(i)에게 영화를 추천한다. \n",
    "- 유저(i)와 유사한 5명의 유저들이 아이템에 대해 평가한 가중평균을 이용하여 유저(i)의 평점을 예측한다.\n",
    "- 예측한 평점이 3점 이상인 영화들을 추천 리스트로 만들어 유저(i)에게 2개의 영화를 랜덤으로 추천한다."
   ]
  },
  {
   "cell_type": "code",
   "execution_count": 440,
   "metadata": {
    "collapsed": true
   },
   "outputs": [],
   "source": [
    "# make_df()로 부터 새로운 data frame을 받아 narray 형식으로 변환\n",
    "def convert_narray(data_name, similiar_users_list):\n",
    "    \n",
    "    # target 유저와 유사한 5명의 유저로 이루어진 새로운 data frame 형성\n",
    "    def make_df(data_name, similiar_users_list):\n",
    "    \n",
    "        titles = list(data_name.columns)\n",
    "        new_df = pd.DataFrame(columns = titles)\n",
    "    \n",
    "        for i in range(len(similiar_users_list)):\n",
    "    \n",
    "            def concat_row(i):\n",
    "            \n",
    "                neigh_df = data_name[data_name['user'] == similiar_users_list[i]]\n",
    "        \n",
    "                return neigh_df\n",
    "        \n",
    "            df = pd.concat([new_df, concat_row(i)])\n",
    "            new_df = df\n",
    "        \n",
    "        return new_df\n",
    "    \n",
    "    new_df = make_df(data_name, similiar_users_list)\n",
    "    narray = new_df.values\n",
    "    narray = narray[:,1:]\n",
    "    \n",
    "    return narray\n",
    "\n",
    "\n",
    "# target 유저의 평점 계산\n",
    "def cal_rating(narray_data, similiar_distance):\n",
    "    \n",
    "    rating_list = []    # 가중평균값을 담는 리스트\n",
    "        \n",
    "    for col_num in range(narray_data.shape[1]):\n",
    "        sum=0\n",
    "        rating = 0\n",
    "        for i in range(1, len(narray_data[:, col_num])):\n",
    "            sum += float(narray_data[:, col_num][i]) * float(similiar_distance[i])\n",
    "        rating = sum/similiar_distance.sum()\n",
    "    \n",
    "        if rating < 1:\n",
    "            rating = 1    # 만약 가중평균값이 1보다 작으면 1점으로 함\n",
    "        elif rating > 10:\n",
    "            rating = 10    # 만약 가중평균값이 10보다 작으면 10점으로 함\n",
    "        else:\n",
    "            rating = int(rating)    # 평점은 정수형\n",
    "    \n",
    "        rating_list.append(rating)\n",
    "    \n",
    "    return rating_list\n",
    "\n",
    "\n",
    "# target 유저의 평점을 리스트로 변환하는 함수\n",
    "def target_user_rating_list(target_user, data_name):\n",
    "    \n",
    "    # target 유저의 평점을 narray로 변환\n",
    "    target_user = data_name[data_name['user']==target_user]\n",
    "    target_user = target_user.values\n",
    "    target_user = target_user[:, 1:]\n",
    "    \n",
    "    #narray로 변환된 target 유저의 평점을 리스트로 변환\n",
    "    target_user_rating_list = []\n",
    "    for i in range(target_user.shape[1]):\n",
    "        raw_rating = target_user[0][i]\n",
    "        target_user_rating_list.append(raw_rating)\n",
    "    \n",
    "    return target_user_rating_list\n",
    "\n",
    "\n",
    "# recommendation function\n",
    "def recommendation(rating_list, target_user_rating_list, data_name):\n",
    "    \n",
    "    # 만약 target 유저의 평점이 0이면, 가중치평균을 넣고, 그렇지 않으면 0을 넣는다.\n",
    "    # 즉, 0값이 target 유저가 평가 했던 아이템인데, 이 아이템 외의 값을 추천받기 위함\n",
    "    final_list = []\n",
    "    for i in range(len(rating_list)):\n",
    "        if int(target_user_rating_list[i]) != 0 :\n",
    "            final_list.append(0)\n",
    "        else:\n",
    "            final_list.append(int(rating_list[i]))\n",
    "\n",
    "    movie_num = []\n",
    "    for i in range(len(final_list)):\n",
    "        if final_list[i] >= 3:\n",
    "            movie_num.append(i)\n",
    "            \n",
    "    movie_list = list(data_name.columns)\n",
    "    movie_list = movie_list[1:]\n",
    "    \n",
    "    recommendation_all_list = []\n",
    "    for i in movie_num:\n",
    "        recommendation_all_list.append(movie_list[i])\n",
    "    \n",
    "    # 만약 추천 리스트가 2개 이상이라면 2편의 추천 리스트에서 영화를 추천한다.\n",
    "    # 그렇지 않으면 영화 리스트에서 영화를 추천한다.\n",
    "    if len(recommendation_all_list) >= 2:\n",
    "        recommendation_selection = random.sample(recommendation_all_list, 2)\n",
    "    else:\n",
    "        recommendation_selection = random.sample(movie_list, 2)\n",
    "    \n",
    "    print('고객님 이 영화는 어떠세요?')\n",
    "    return print(recommendation_selection)"
   ]
  },
  {
   "cell_type": "markdown",
   "metadata": {},
   "source": [
    "### 예시"
   ]
  },
  {
   "cell_type": "code",
   "execution_count": 441,
   "metadata": {
    "collapsed": true,
    "scrolled": true
   },
   "outputs": [],
   "source": [
    "convert_narray = convert_narray(train, similiar_users_10)\n",
    "cal_rating = cal_rating(convert_narray, similiar_distance_10)\n",
    "target_user_rating_list = target_user_rating_list(10, train)"
   ]
  },
  {
   "cell_type": "code",
   "execution_count": 442,
   "metadata": {},
   "outputs": [
    {
     "name": "stdout",
     "output_type": "stream",
     "text": [
      "고객님 이 영화는 어떠세요?\n",
      "['스파이더맨 3', '보이후드']\n"
     ]
    }
   ],
   "source": [
    "recommendation(cal_rating, target_user_rating_list, train)"
   ]
  },
  {
   "cell_type": "code",
   "execution_count": null,
   "metadata": {
    "collapsed": true
   },
   "outputs": [],
   "source": []
  },
  {
   "cell_type": "code",
   "execution_count": null,
   "metadata": {
    "collapsed": true
   },
   "outputs": [],
   "source": []
  }
 ],
 "metadata": {
  "kernelspec": {
   "display_name": "Python 3",
   "language": "python",
   "name": "python3"
  },
  "language_info": {
   "codemirror_mode": {
    "name": "ipython",
    "version": 3
   },
   "file_extension": ".py",
   "mimetype": "text/x-python",
   "name": "python",
   "nbconvert_exporter": "python",
   "pygments_lexer": "ipython3",
   "version": "3.6.2rc1"
  }
 },
 "nbformat": 4,
 "nbformat_minor": 2
}
