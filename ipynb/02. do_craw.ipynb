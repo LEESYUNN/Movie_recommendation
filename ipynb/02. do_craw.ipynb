{
 "cells": [
  {
   "cell_type": "code",
   "execution_count": 1,
   "metadata": {
    "collapsed": true
   },
   "outputs": [],
   "source": [
    "import crawling"
   ]
  },
  {
   "cell_type": "code",
   "execution_count": 4,
   "metadata": {
    "scrolled": false
   },
   "outputs": [
    {
     "name": "stdout",
     "output_type": "stream",
     "text": [
      "(1064, \"You have an error in your SQL syntax; check the manual that corresponds to your MySQL server version for the right syntax to use near '바이: Good & Bye', '10')' at line 1\")\n",
      "(1064, \"You have an error in your SQL syntax; check the manual that corresponds to your MySQL server version for the right syntax to use near '바이: Good & Bye', '10')' at line 1\")\n",
      "(1064, \"You have an error in your SQL syntax; check the manual that corresponds to your MySQL server version for the right syntax to use near '바이: Good & Bye', '10')' at line 1\")\n",
      "Wall time: 19min 25s\n"
     ]
    }
   ],
   "source": [
    "%%time\n",
    "\n",
    "page = 13296639   #최근 유저 페이지부터 순차적으로 크롤링 \n",
    "while page > 13295630:\n",
    "\n",
    "    page = str(page)\n",
    "    url = \"http://movie.naver.com/movie/point/af/list.nhn?st=nickname&sword={}&target=after\".format(page)\n",
    "    \n",
    "    crawling.do_craw(url)\n",
    "    \n",
    "    page = int(page)\n",
    "    page -= 1"
   ]
  },
  {
   "cell_type": "code",
   "execution_count": 6,
   "metadata": {
    "scrolled": true
   },
   "outputs": [
    {
     "name": "stdout",
     "output_type": "stream",
     "text": [
      "(1064, \"You have an error in your SQL syntax; check the manual that corresponds to your MySQL server version for the right syntax to use near '콰이어트나이트'', '10')' at line 1\")\n",
      "(1064, \"You have an error in your SQL syntax; check the manual that corresponds to your MySQL server version for the right syntax to use near '바이: Good & Bye', '10')' at line 1\")\n",
      "Wall time: 11min 1s\n"
     ]
    }
   ],
   "source": [
    "%%time\n",
    "\n",
    "page = 13295630\n",
    "while page > 13295330:\n",
    "\n",
    "    page = str(page)\n",
    "    url = \"http://movie.naver.com/movie/point/af/list.nhn?st=nickname&sword={}&target=after\".format(page)\n",
    "    \n",
    "    crawling.do_craw(url)\n",
    "    \n",
    "    page = int(page)\n",
    "    page -= 1"
   ]
  },
  {
   "cell_type": "code",
   "execution_count": null,
   "metadata": {},
   "outputs": [],
   "source": []
  }
 ],
 "metadata": {
  "kernelspec": {
   "display_name": "Python 3",
   "language": "python",
   "name": "python3"
  },
  "language_info": {
   "codemirror_mode": {
    "name": "ipython",
    "version": 3
   },
   "file_extension": ".py",
   "mimetype": "text/x-python",
   "name": "python",
   "nbconvert_exporter": "python",
   "pygments_lexer": "ipython3",
   "version": "3.6.2rc1"
  }
 },
 "nbformat": 4,
 "nbformat_minor": 2
}
