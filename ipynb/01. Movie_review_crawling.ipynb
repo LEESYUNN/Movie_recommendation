{
 "cells": [
  {
   "cell_type": "markdown",
   "metadata": {},
   "source": [
    "## 네이버 영화 리뷰 크롤링\n",
    "- 네이버 영화 리뷰 페이지에서 유저별 크롤링\n",
    "- 사용자 ID, 별점, 영화제목을 크롤링 해온다."
   ]
  },
  {
   "cell_type": "markdown",
   "metadata": {},
   "source": [
    "### 1. Import"
   ]
  },
  {
   "cell_type": "code",
   "execution_count": null,
   "metadata": {
    "collapsed": true
   },
   "outputs": [],
   "source": [
    "# 크롤링 모듈\n",
    "import requests\n",
    "from bs4 import BeautifulSoup\n",
    "\n",
    "# DB 연동을 위한 모듈\n",
    "import MySQLdb\n",
    "\n",
    "# 정규식 모듈\n",
    "import re"
   ]
  },
  {
   "cell_type": "markdown",
   "metadata": {},
   "source": [
    "### 2. Crawling Methods"
   ]
  },
  {
   "cell_type": "code",
   "execution_count": null,
   "metadata": {
    "collapsed": true
   },
   "outputs": [],
   "source": [
    "# link를 얻어오는 함수\n",
    "def get_link(url):\n",
    "    \n",
    "    res = requests.get(url)\n",
    "    content = res.text\n",
    "    soup = BeautifulSoup(content, 'html5lib')\n",
    "    \n",
    "    # a 태그이면서 href 속성을 갖는 경우 탐색\n",
    "    links = soup.select('a[href]')\n",
    "    \n",
    "    link_list = []\n",
    "    for link in links:\n",
    "        if re.search(r'&target=after&page', link['href']):\n",
    "            target_url = 'http://movie.naver.com' + str(link['href'])\n",
    "            link_list.append(target_url)\n",
    "    \n",
    "    # '다음' 때문에 한페이지가 더 추가되어 처리\n",
    "    if len(link_list) != 1:\n",
    "        pop_number = len(link_list) - 1\n",
    "        link_list.pop(pop_number)\n",
    "    \n",
    "    return link_list\n",
    "\n",
    "\n",
    "# 유저ID, 영화제목, 평점 크롤링 함수\n",
    "def do_craw(url):\n",
    "\n",
    "    url_list = get_link(url)\n",
    "\n",
    "    # DB 연결\n",
    "    db = MySQLdb.connect(server, user, password, 'movie_review')\n",
    "    db.set_character_set('utf8')\n",
    "    cursor = db.cursor()\n",
    "\n",
    "    for url in url_list:\n",
    "    \n",
    "        res = requests.get(url)\n",
    "        content = res.text\n",
    "        soup = BeautifulSoup(content, 'html5lib')\n",
    "    \n",
    "        user_id = soup.find_all('a', class_='author')\n",
    "        title = soup.find_all('td', class_='title') # a 태그\n",
    "        score = soup.find_all('td', class_='point')\n",
    "    \n",
    "        user_id_list = []\n",
    "        for user_id in user_id:\n",
    "            replaced_user_id = re.sub(r'[*]', '', user_id.get_text())   #유저ID '*' 처리 된것 정규식으로 처리\n",
    "            user_id_list.append(replaced_user_id)\n",
    "    \n",
    "        title_list = []\n",
    "        for title in title:\n",
    "            title_list.append(title.a.get_text())\n",
    "        \n",
    "        score_list = []\n",
    "        for score in score:\n",
    "            score_list.append(score.get_text())\n",
    "        \n",
    "        for num in range(0, len(user_id_list)):\n",
    "        \n",
    "            user_id = user_id_list[num]\n",
    "            title = title_list[num]\n",
    "            score = score_list[num]\n",
    "        \n",
    "            # DB에 데이터를 넣기 위한 쿼리\n",
    "            query = \"\"\"INSERT INTO review_data VALUES ('{}', '{}', '{}')\"\"\".format(user_id, title, score)\n",
    "    \n",
    "            try:\n",
    "                cursor.execute(query)\n",
    "                db.commit()    # commit change\n",
    "            except Exception as e:\n",
    "                print(str(e))\n",
    "                db.rollback()    # error가 생기면 rollback\n",
    "        \n",
    "    db.close()    # DB 종료"
   ]
  },
  {
   "cell_type": "markdown",
   "metadata": {},
   "source": [
    "### 3. Do Crawling"
   ]
  },
  {
   "cell_type": "code",
   "execution_count": null,
   "metadata": {
    "collapsed": true
   },
   "outputs": [],
   "source": [
    "page = 13296639   #최근 유저 페이지부터 순차적으로 크롤링 \n",
    "\n",
    "while page > 13295139:\n",
    "\n",
    "    page = str(page)\n",
    "    url = \"http://movie.naver.com/movie/point/af/list.nhn?st=nickname&sword={}&target=after\".format(page)\n",
    "    \n",
    "    do_craw(url)\n",
    "    \n",
    "    page = int(page)\n",
    "    page -= 1"
   ]
  },
  {
   "cell_type": "code",
   "execution_count": null,
   "metadata": {
    "collapsed": true
   },
   "outputs": [],
   "source": []
  },
  {
   "cell_type": "code",
   "execution_count": null,
   "metadata": {
    "collapsed": true
   },
   "outputs": [],
   "source": []
  }
 ],
 "metadata": {
  "kernelspec": {
   "display_name": "Python 3",
   "language": "python",
   "name": "python3"
  },
  "language_info": {
   "codemirror_mode": {
    "name": "ipython",
    "version": 3
   },
   "file_extension": ".py",
   "mimetype": "text/x-python",
   "name": "python",
   "nbconvert_exporter": "python",
   "pygments_lexer": "ipython3",
   "version": "3.6.2rc1"
  }
 },
 "nbformat": 4,
 "nbformat_minor": 2
}
